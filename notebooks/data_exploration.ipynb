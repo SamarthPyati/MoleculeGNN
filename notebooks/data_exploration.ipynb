{
 "cells": [
  {
   "cell_type": "code",
   "execution_count": 80,
   "id": "61b0ff18",
   "metadata": {},
   "outputs": [],
   "source": [
    "import pandas as pd\n",
    "from pathlib import Path\n",
    "\n",
    "from rdkit import Chem\n",
    "from rdkit.Chem import Draw\n",
    "from rdkit.Chem.Draw import IPythonConsole\n",
    "\n",
    "IPythonConsole.ipython_useSVG = True  # set this to False if you want PNGs instead of SVGs"
   ]
  },
  {
   "cell_type": "code",
   "execution_count": 81,
   "id": "05fe8e58",
   "metadata": {},
   "outputs": [],
   "source": [
    "DATA_FOLDER: Path = Path(\"../data/raw/SAMPL.csv\")\n",
    "data = pd.read_csv(DATA_FOLDER)\n",
    "indane = data.loc[data['iupac'] == 'indane']\n",
    "\n",
    "def molecule_get_smile(df: pd.DataFrame, name: str) -> str: \n",
    "    # Return smile \n",
    "    assert df.columns.__contains__('iupac'), \"Dataframe must contain columns 'iupac' and 'smiles'.\"\n",
    "    return df.loc[df['iupac'] == name]['smiles'].iloc[0]\n"
   ]
  },
  {
   "cell_type": "code",
   "execution_count": null,
   "id": "92dccce4",
   "metadata": {},
   "outputs": [],
   "source": [
    "def get_atom_features(atom: Chem.rdchem.Atom):\n",
    "    \"\"\"Extract features for a single atom\"\"\"\n",
    "    return [\n",
    "        atom.GetAtomicNum(),            # Atomic number\n",
    "        atom.GetDegree(),               # Number of bonds\n",
    "        atom.GetFormalCharge(),         # Charge\n",
    "        atom.GetHybridization().real,   # Hybridization\n",
    "        atom.GetIsAromatic(),           # Aromaticity\n",
    "        atom.GetTotalNumHs(),           # Number of hydrogens\n",
    "    ]"
   ]
  },
  {
   "cell_type": "code",
   "execution_count": 79,
   "id": "f4aa833b",
   "metadata": {},
   "outputs": [
    {
     "name": "stdout",
     "output_type": "stream",
     "text": [
      "[6, 2, 0, 3, True, 1]\n"
     ]
    }
   ],
   "source": [
    "mol = Chem.MolFromSmiles(molecule_get_smile(data, 'benzene'))\n",
    "for atom in mol.GetAtoms(): \n",
    "    print(get_atom_features(atom))\n",
    "    break"
   ]
  }
 ],
 "metadata": {
  "kernelspec": {
   "display_name": "molecular",
   "language": "python",
   "name": "python3"
  },
  "language_info": {
   "codemirror_mode": {
    "name": "ipython",
    "version": 3
   },
   "file_extension": ".py",
   "mimetype": "text/x-python",
   "name": "python",
   "nbconvert_exporter": "python",
   "pygments_lexer": "ipython3",
   "version": "3.13.5"
  }
 },
 "nbformat": 4,
 "nbformat_minor": 5
}
