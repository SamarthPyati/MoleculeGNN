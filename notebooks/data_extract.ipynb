{
 "cells": [
  {
   "cell_type": "code",
   "execution_count": 1,
   "id": "d338dcf2",
   "metadata": {},
   "outputs": [],
   "source": [
    "import sys, os\n",
    "# Fix relative import issue, append root path to sys.path\n",
    "parent = os.path.abspath(os.path.join(os.getcwd(), '..'))\n",
    "sys.path.append(parent)\n"
   ]
  },
  {
   "cell_type": "code",
   "execution_count": 2,
   "id": "b4cd6a91",
   "metadata": {},
   "outputs": [],
   "source": [
    "from utils.dataset import MoleculeDataset, RawDatasetList"
   ]
  },
  {
   "cell_type": "code",
   "execution_count": 3,
   "id": "11ef733f",
   "metadata": {},
   "outputs": [
    {
     "data": {
      "text/plain": [
       "MoleculeDataset(file=ESOL.csv, len=1128)"
      ]
     },
     "execution_count": 3,
     "metadata": {},
     "output_type": "execute_result"
    }
   ],
   "source": [
    "data = MoleculeDataset('../data/raw/ESOL.csv', target_col='measured log solubility in mols per litre')\n",
    "data"
   ]
  }
 ],
 "metadata": {
  "kernelspec": {
   "display_name": "molecular",
   "language": "python",
   "name": "python3"
  },
  "language_info": {
   "codemirror_mode": {
    "name": "ipython",
    "version": 3
   },
   "file_extension": ".py",
   "mimetype": "text/x-python",
   "name": "python",
   "nbconvert_exporter": "python",
   "pygments_lexer": "ipython3",
   "version": "3.13.8"
  }
 },
 "nbformat": 4,
 "nbformat_minor": 5
}
